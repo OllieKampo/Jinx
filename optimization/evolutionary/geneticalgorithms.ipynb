{
 "cells": [
  {
   "cell_type": "code",
   "execution_count": null,
   "metadata": {},
   "outputs": [],
   "source": [
    "from optimization.evolutionary.geneticalgorithms import GeneticSystem, GeneticEncoder, BitStringBaseTypes, SplitCrossOver, PointMutator, ProportionateSelector\n",
    "\n",
    "class TestEncoder(GeneticEncoder):\n",
    "    def encode(self, solution):\n",
    "        return solution\n",
    "    def decode(self, solution):\n",
    "        return solution\n",
    "    def evaluate_fitness(self, chromosome):\n",
    "        return sum(1 if ((int(x) % 2) == (i % 2)) else 0 for i, x in enumerate(chromosome))\n",
    "\n",
    "encoder = TestEncoder(20, False, BitStringBaseTypes.bin)\n",
    "selector = ProportionateSelector()\n",
    "recombiner = SplitCrossOver()\n",
    "mutator = PointMutator(1)\n",
    "system = GeneticSystem(encoder, selector, recombiner, mutator)\n",
    "\n",
    "result = system.run(5, 50, 1.5, 0.75, mutation_factor_final=0.0)\n",
    "print(result)\n",
    "\n"
   ]
  },
  {
   "cell_type": "code",
   "execution_count": null,
   "metadata": {},
   "outputs": [],
   "source": [
    "from auxiliary.moreitertools import chunk\n",
    "from optimization.evolutionary.geneticalgorithms import GeneticSystem, GeneticEncoder, BitStringBaseTypes, SplitCrossOver, PointMutator, ProportionateSelector\n",
    "\n",
    "import matplotlib.pyplot as plt\n",
    "\n",
    "from control.pid import PIDController\n",
    "from control.systems import InvertedPendulumSystem\n",
    "from control.controlutils import simulate_control\n",
    "\n",
    "pend_system = InvertedPendulumSystem()\n",
    "controller = PIDController(0.0, 0.0, 0.0, initial_error=pend_system.get_control_input() - pend_system.get_setpoint())\n",
    "\n",
    "ticks: int = 100\n",
    "delta_time: float = 0.1\n",
    "\n",
    "def control_evaluator(vec):\n",
    "    controller.reset()\n",
    "    controller.set_gains(*vec)\n",
    "    pend_system.reset()\n",
    "    return simulate_control(pend_system, controller, ticks, delta_time)\n",
    "\n",
    "class TestEncoder(GeneticEncoder):\n",
    "    def encode(self, solution):\n",
    "        return solution\n",
    "    def decode(self, solution):\n",
    "        return solution\n",
    "    def evaluate_fitness(self, chromosome):\n",
    "        return -control_evaluator([int(c, base=2) / 100 for c in chunk(chromosome, 10)])\n",
    "\n",
    "encoder = TestEncoder(30, False, BitStringBaseTypes.bin)\n",
    "selector = ProportionateSelector()\n",
    "recombiner = SplitCrossOver()\n",
    "mutator = PointMutator(1)\n",
    "system = GeneticSystem(encoder, selector, recombiner, mutator)\n",
    "\n",
    "result = system.run(500, 500, 1.5, 0.75, mutation_factor_final=0.0, max_generations=500)\n",
    "print(result)\n",
    "print([int(c, base=2) / 100 for c in chunk(result.best_individual, 10)])"
   ]
  }
 ],
 "metadata": {
  "kernelspec": {
   "display_name": "jinx",
   "language": "python",
   "name": "python3"
  },
  "language_info": {
   "codemirror_mode": {
    "name": "ipython",
    "version": 3
   },
   "file_extension": ".py",
   "mimetype": "text/x-python",
   "name": "python",
   "nbconvert_exporter": "python",
   "pygments_lexer": "ipython3",
   "version": "3.10.8"
  },
  "orig_nbformat": 4,
  "vscode": {
   "interpreter": {
    "hash": "c8d02a379445c0848a0d86f94344e1fc81c80eb097ba000267690395e014bd2e"
   }
  }
 },
 "nbformat": 4,
 "nbformat_minor": 2
}
