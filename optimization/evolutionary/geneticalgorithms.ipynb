{
 "cells": [
  {
   "cell_type": "code",
   "execution_count": 1,
   "metadata": {},
   "outputs": [
    {
     "name": "stderr",
     "output_type": "stream",
     "text": [
      "100%|\u001b[36m█████████████████████████████████████████████████████████████████████████████████████████████\u001b[0m| 100/100 [00:00<00:00, 171.86it/s, Best fitness=20, Mem(Mb)=00096, CPU(%)=117.00]\u001b[0m"
     ]
    },
    {
     "name": "stdout",
     "output_type": "stream",
     "text": [
      "01010101010101010101 20\n"
     ]
    }
   ],
   "source": [
    "from optimization.evolutionary.geneticalgorithms import GeneticSystem, GeneticEncoder, BitStringBaseTypes, SplitCrossOver, PointMutator, ProportionateSelector\n",
    "\n",
    "class TestEncoder(GeneticEncoder):\n",
    "    def encode(self, solution):\n",
    "        return solution\n",
    "    def decode(self, solution):\n",
    "        return solution\n",
    "    def evaluate_fitness(self, chromosome):\n",
    "        return sum(1 if ((int(x) % 2) == (i % 2)) else 0 for i, x in enumerate(chromosome))\n",
    "\n",
    "encoder = TestEncoder(20, False, BitStringBaseTypes.bin)\n",
    "selector = ProportionateSelector()\n",
    "recombiner = SplitCrossOver()\n",
    "mutator = PointMutator(1)\n",
    "system = GeneticSystem(encoder, selector, recombiner, mutator)\n",
    "\n",
    "result = system.run(100, 200, 1.5, 0.75, mutation_factor_final=0.0)\n",
    "print(result.best_individual, result.best_fitness)\n"
   ]
  }
 ],
 "metadata": {
  "kernelspec": {
   "display_name": "jinx",
   "language": "python",
   "name": "python3"
  },
  "language_info": {
   "codemirror_mode": {
    "name": "ipython",
    "version": 3
   },
   "file_extension": ".py",
   "mimetype": "text/x-python",
   "name": "python",
   "nbconvert_exporter": "python",
   "pygments_lexer": "ipython3",
   "version": "3.10.8"
  },
  "orig_nbformat": 4,
  "vscode": {
   "interpreter": {
    "hash": "c8d02a379445c0848a0d86f94344e1fc81c80eb097ba000267690395e014bd2e"
   }
  }
 },
 "nbformat": 4,
 "nbformat_minor": 2
}
